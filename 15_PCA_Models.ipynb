{
 "cells": [
  {
   "cell_type": "code",
   "execution_count": 1,
   "metadata": {},
   "outputs": [],
   "source": [
    "import numpy as np\n",
    "import pandas as pd\n",
    "import sys\n",
    "import scipy.io as sio\n",
    "import matplotlib\n",
    "import matplotlib.pyplot as plt\n",
    "from numpy.matlib import repmat\n",
    "from sklearn import preprocessing\n",
    "from sklearn.decomposition import PCA\n",
    "from sklearn.model_selection import train_test_split\n",
    "from sklearn.preprocessing import StandardScaler\n",
    "\n",
    "np.set_printoptions(threshold=sys.maxsize)\n",
    "\n",
    "%matplotlib inline\n",
    "\n",
    "import time"
   ]
  },
  {
   "cell_type": "markdown",
   "metadata": {},
   "source": [
    "## Load Data"
   ]
  },
  {
   "cell_type": "code",
   "execution_count": 2,
   "metadata": {},
   "outputs": [],
   "source": [
    "# load datas \n",
    "data = pd.read_csv(\"./chineseMNIST.csv\")"
   ]
  },
  {
   "cell_type": "code",
   "execution_count": 3,
   "metadata": {},
   "outputs": [
    {
     "data": {
      "text/html": [
       "<div>\n",
       "<style scoped>\n",
       "    .dataframe tbody tr th:only-of-type {\n",
       "        vertical-align: middle;\n",
       "    }\n",
       "\n",
       "    .dataframe tbody tr th {\n",
       "        vertical-align: top;\n",
       "    }\n",
       "\n",
       "    .dataframe thead th {\n",
       "        text-align: right;\n",
       "    }\n",
       "</style>\n",
       "<table border=\"1\" class=\"dataframe\">\n",
       "  <thead>\n",
       "    <tr style=\"text-align: right;\">\n",
       "      <th></th>\n",
       "      <th>pixel_0</th>\n",
       "      <th>pixel_1</th>\n",
       "      <th>pixel_2</th>\n",
       "      <th>pixel_3</th>\n",
       "      <th>pixel_4</th>\n",
       "      <th>pixel_5</th>\n",
       "      <th>pixel_6</th>\n",
       "      <th>pixel_7</th>\n",
       "      <th>pixel_8</th>\n",
       "      <th>pixel_9</th>\n",
       "      <th>...</th>\n",
       "      <th>pixel_4088</th>\n",
       "      <th>pixel_4089</th>\n",
       "      <th>pixel_4090</th>\n",
       "      <th>pixel_4091</th>\n",
       "      <th>pixel_4092</th>\n",
       "      <th>pixel_4093</th>\n",
       "      <th>pixel_4094</th>\n",
       "      <th>pixel_4095</th>\n",
       "      <th>label</th>\n",
       "      <th>character</th>\n",
       "    </tr>\n",
       "  </thead>\n",
       "  <tbody>\n",
       "    <tr>\n",
       "      <th>0</th>\n",
       "      <td>0</td>\n",
       "      <td>0</td>\n",
       "      <td>0</td>\n",
       "      <td>0</td>\n",
       "      <td>0</td>\n",
       "      <td>0</td>\n",
       "      <td>0</td>\n",
       "      <td>0</td>\n",
       "      <td>0</td>\n",
       "      <td>0</td>\n",
       "      <td>...</td>\n",
       "      <td>0</td>\n",
       "      <td>0</td>\n",
       "      <td>0</td>\n",
       "      <td>0</td>\n",
       "      <td>0</td>\n",
       "      <td>0</td>\n",
       "      <td>0</td>\n",
       "      <td>0</td>\n",
       "      <td>9</td>\n",
       "      <td>九</td>\n",
       "    </tr>\n",
       "    <tr>\n",
       "      <th>1</th>\n",
       "      <td>0</td>\n",
       "      <td>0</td>\n",
       "      <td>0</td>\n",
       "      <td>0</td>\n",
       "      <td>0</td>\n",
       "      <td>0</td>\n",
       "      <td>0</td>\n",
       "      <td>0</td>\n",
       "      <td>0</td>\n",
       "      <td>0</td>\n",
       "      <td>...</td>\n",
       "      <td>0</td>\n",
       "      <td>0</td>\n",
       "      <td>0</td>\n",
       "      <td>0</td>\n",
       "      <td>0</td>\n",
       "      <td>0</td>\n",
       "      <td>0</td>\n",
       "      <td>0</td>\n",
       "      <td>9</td>\n",
       "      <td>九</td>\n",
       "    </tr>\n",
       "    <tr>\n",
       "      <th>2</th>\n",
       "      <td>0</td>\n",
       "      <td>0</td>\n",
       "      <td>0</td>\n",
       "      <td>0</td>\n",
       "      <td>0</td>\n",
       "      <td>0</td>\n",
       "      <td>0</td>\n",
       "      <td>0</td>\n",
       "      <td>0</td>\n",
       "      <td>0</td>\n",
       "      <td>...</td>\n",
       "      <td>0</td>\n",
       "      <td>0</td>\n",
       "      <td>0</td>\n",
       "      <td>0</td>\n",
       "      <td>0</td>\n",
       "      <td>0</td>\n",
       "      <td>0</td>\n",
       "      <td>0</td>\n",
       "      <td>9</td>\n",
       "      <td>九</td>\n",
       "    </tr>\n",
       "    <tr>\n",
       "      <th>3</th>\n",
       "      <td>0</td>\n",
       "      <td>0</td>\n",
       "      <td>0</td>\n",
       "      <td>0</td>\n",
       "      <td>0</td>\n",
       "      <td>0</td>\n",
       "      <td>0</td>\n",
       "      <td>0</td>\n",
       "      <td>0</td>\n",
       "      <td>0</td>\n",
       "      <td>...</td>\n",
       "      <td>0</td>\n",
       "      <td>0</td>\n",
       "      <td>0</td>\n",
       "      <td>0</td>\n",
       "      <td>0</td>\n",
       "      <td>0</td>\n",
       "      <td>0</td>\n",
       "      <td>0</td>\n",
       "      <td>9</td>\n",
       "      <td>九</td>\n",
       "    </tr>\n",
       "    <tr>\n",
       "      <th>4</th>\n",
       "      <td>0</td>\n",
       "      <td>0</td>\n",
       "      <td>0</td>\n",
       "      <td>0</td>\n",
       "      <td>0</td>\n",
       "      <td>0</td>\n",
       "      <td>0</td>\n",
       "      <td>0</td>\n",
       "      <td>0</td>\n",
       "      <td>0</td>\n",
       "      <td>...</td>\n",
       "      <td>0</td>\n",
       "      <td>0</td>\n",
       "      <td>0</td>\n",
       "      <td>0</td>\n",
       "      <td>0</td>\n",
       "      <td>0</td>\n",
       "      <td>0</td>\n",
       "      <td>0</td>\n",
       "      <td>9</td>\n",
       "      <td>九</td>\n",
       "    </tr>\n",
       "    <tr>\n",
       "      <th>...</th>\n",
       "      <td>...</td>\n",
       "      <td>...</td>\n",
       "      <td>...</td>\n",
       "      <td>...</td>\n",
       "      <td>...</td>\n",
       "      <td>...</td>\n",
       "      <td>...</td>\n",
       "      <td>...</td>\n",
       "      <td>...</td>\n",
       "      <td>...</td>\n",
       "      <td>...</td>\n",
       "      <td>...</td>\n",
       "      <td>...</td>\n",
       "      <td>...</td>\n",
       "      <td>...</td>\n",
       "      <td>...</td>\n",
       "      <td>...</td>\n",
       "      <td>...</td>\n",
       "      <td>...</td>\n",
       "      <td>...</td>\n",
       "      <td>...</td>\n",
       "    </tr>\n",
       "    <tr>\n",
       "      <th>14995</th>\n",
       "      <td>0</td>\n",
       "      <td>0</td>\n",
       "      <td>0</td>\n",
       "      <td>0</td>\n",
       "      <td>0</td>\n",
       "      <td>0</td>\n",
       "      <td>0</td>\n",
       "      <td>0</td>\n",
       "      <td>0</td>\n",
       "      <td>0</td>\n",
       "      <td>...</td>\n",
       "      <td>0</td>\n",
       "      <td>0</td>\n",
       "      <td>0</td>\n",
       "      <td>0</td>\n",
       "      <td>0</td>\n",
       "      <td>0</td>\n",
       "      <td>0</td>\n",
       "      <td>0</td>\n",
       "      <td>8</td>\n",
       "      <td>八</td>\n",
       "    </tr>\n",
       "    <tr>\n",
       "      <th>14996</th>\n",
       "      <td>0</td>\n",
       "      <td>0</td>\n",
       "      <td>0</td>\n",
       "      <td>0</td>\n",
       "      <td>0</td>\n",
       "      <td>0</td>\n",
       "      <td>0</td>\n",
       "      <td>0</td>\n",
       "      <td>0</td>\n",
       "      <td>0</td>\n",
       "      <td>...</td>\n",
       "      <td>0</td>\n",
       "      <td>0</td>\n",
       "      <td>0</td>\n",
       "      <td>0</td>\n",
       "      <td>0</td>\n",
       "      <td>0</td>\n",
       "      <td>0</td>\n",
       "      <td>0</td>\n",
       "      <td>8</td>\n",
       "      <td>八</td>\n",
       "    </tr>\n",
       "    <tr>\n",
       "      <th>14997</th>\n",
       "      <td>0</td>\n",
       "      <td>0</td>\n",
       "      <td>0</td>\n",
       "      <td>0</td>\n",
       "      <td>0</td>\n",
       "      <td>0</td>\n",
       "      <td>0</td>\n",
       "      <td>0</td>\n",
       "      <td>0</td>\n",
       "      <td>0</td>\n",
       "      <td>...</td>\n",
       "      <td>0</td>\n",
       "      <td>0</td>\n",
       "      <td>0</td>\n",
       "      <td>0</td>\n",
       "      <td>0</td>\n",
       "      <td>0</td>\n",
       "      <td>0</td>\n",
       "      <td>0</td>\n",
       "      <td>8</td>\n",
       "      <td>八</td>\n",
       "    </tr>\n",
       "    <tr>\n",
       "      <th>14998</th>\n",
       "      <td>0</td>\n",
       "      <td>0</td>\n",
       "      <td>0</td>\n",
       "      <td>0</td>\n",
       "      <td>0</td>\n",
       "      <td>0</td>\n",
       "      <td>0</td>\n",
       "      <td>0</td>\n",
       "      <td>0</td>\n",
       "      <td>0</td>\n",
       "      <td>...</td>\n",
       "      <td>0</td>\n",
       "      <td>0</td>\n",
       "      <td>0</td>\n",
       "      <td>0</td>\n",
       "      <td>0</td>\n",
       "      <td>0</td>\n",
       "      <td>0</td>\n",
       "      <td>0</td>\n",
       "      <td>8</td>\n",
       "      <td>八</td>\n",
       "    </tr>\n",
       "    <tr>\n",
       "      <th>14999</th>\n",
       "      <td>0</td>\n",
       "      <td>0</td>\n",
       "      <td>0</td>\n",
       "      <td>0</td>\n",
       "      <td>0</td>\n",
       "      <td>0</td>\n",
       "      <td>0</td>\n",
       "      <td>0</td>\n",
       "      <td>0</td>\n",
       "      <td>0</td>\n",
       "      <td>...</td>\n",
       "      <td>0</td>\n",
       "      <td>0</td>\n",
       "      <td>0</td>\n",
       "      <td>0</td>\n",
       "      <td>0</td>\n",
       "      <td>0</td>\n",
       "      <td>0</td>\n",
       "      <td>0</td>\n",
       "      <td>8</td>\n",
       "      <td>八</td>\n",
       "    </tr>\n",
       "  </tbody>\n",
       "</table>\n",
       "<p>15000 rows × 4098 columns</p>\n",
       "</div>"
      ],
      "text/plain": [
       "       pixel_0  pixel_1  pixel_2  pixel_3  pixel_4  pixel_5  pixel_6  pixel_7  \\\n",
       "0            0        0        0        0        0        0        0        0   \n",
       "1            0        0        0        0        0        0        0        0   \n",
       "2            0        0        0        0        0        0        0        0   \n",
       "3            0        0        0        0        0        0        0        0   \n",
       "4            0        0        0        0        0        0        0        0   \n",
       "...        ...      ...      ...      ...      ...      ...      ...      ...   \n",
       "14995        0        0        0        0        0        0        0        0   \n",
       "14996        0        0        0        0        0        0        0        0   \n",
       "14997        0        0        0        0        0        0        0        0   \n",
       "14998        0        0        0        0        0        0        0        0   \n",
       "14999        0        0        0        0        0        0        0        0   \n",
       "\n",
       "       pixel_8  pixel_9  ...  pixel_4088  pixel_4089  pixel_4090  pixel_4091  \\\n",
       "0            0        0  ...           0           0           0           0   \n",
       "1            0        0  ...           0           0           0           0   \n",
       "2            0        0  ...           0           0           0           0   \n",
       "3            0        0  ...           0           0           0           0   \n",
       "4            0        0  ...           0           0           0           0   \n",
       "...        ...      ...  ...         ...         ...         ...         ...   \n",
       "14995        0        0  ...           0           0           0           0   \n",
       "14996        0        0  ...           0           0           0           0   \n",
       "14997        0        0  ...           0           0           0           0   \n",
       "14998        0        0  ...           0           0           0           0   \n",
       "14999        0        0  ...           0           0           0           0   \n",
       "\n",
       "       pixel_4092  pixel_4093  pixel_4094  pixel_4095  label  character  \n",
       "0               0           0           0           0      9          九  \n",
       "1               0           0           0           0      9          九  \n",
       "2               0           0           0           0      9          九  \n",
       "3               0           0           0           0      9          九  \n",
       "4               0           0           0           0      9          九  \n",
       "...           ...         ...         ...         ...    ...        ...  \n",
       "14995           0           0           0           0      8          八  \n",
       "14996           0           0           0           0      8          八  \n",
       "14997           0           0           0           0      8          八  \n",
       "14998           0           0           0           0      8          八  \n",
       "14999           0           0           0           0      8          八  \n",
       "\n",
       "[15000 rows x 4098 columns]"
      ]
     },
     "execution_count": 3,
     "metadata": {},
     "output_type": "execute_result"
    }
   ],
   "source": [
    "data"
   ]
  },
  {
   "cell_type": "code",
   "execution_count": 4,
   "metadata": {},
   "outputs": [],
   "source": [
    "# seperate data and label\n",
    "# label \n",
    "infoData  = data.iloc[: , -2:]\n",
    "labelData = infoData.iloc[: , 0]\n",
    "charData = infoData.iloc[: , 1]\n",
    "\n",
    "# data \n",
    "pixelData = data.iloc[: , :-2]"
   ]
  },
  {
   "cell_type": "markdown",
   "metadata": {},
   "source": [
    "## Helper function"
   ]
  },
  {
   "cell_type": "markdown",
   "metadata": {},
   "source": [
    "Difference between viewdfrow() and viewrow()\n",
    "- `viewdfrow()` will take a row of **panda dataframe** as input \n",
    "- `viewrow()` will take a row of **np array** as input \n",
    "\n",
    "Similarity between viewdfrow() and viewrow(): they both take an input with length = 4096. There is no need to pre-shape the input. "
   ]
  },
  {
   "cell_type": "code",
   "execution_count": 5,
   "metadata": {},
   "outputs": [],
   "source": [
    "def viewdfrow(pdrow):\n",
    "    rowvector = pd.to_numeric(pdrow.to_numpy())\n",
    "    plt.imshow(rowvector.reshape([64, 64]))"
   ]
  },
  {
   "cell_type": "code",
   "execution_count": 6,
   "metadata": {},
   "outputs": [],
   "source": [
    "def viewrow(rowvector):\n",
    "    plt.imshow(rowvector.reshape([64, 64]))"
   ]
  },
  {
   "cell_type": "markdown",
   "metadata": {},
   "source": [
    "`labelToNum()` Method description: In this project, we need to recognize 15 characters: 0-10, bai, qian, wan, yi. When store the data, we store bai, qian, wan, yi corresponding to the label 11, 12, 13, 14   \n",
    "Therefore, labelToNum() would take an label in range [0,14], and convert them into the real number that they represent "
   ]
  },
  {
   "cell_type": "code",
   "execution_count": 7,
   "metadata": {},
   "outputs": [],
   "source": [
    "def labelToNum(label):\n",
    "    if label <= 10:\n",
    "        return label\n",
    "    elif label == 11:\n",
    "        return 100\n",
    "    elif label == 12:\n",
    "        return 1000\n",
    "    elif label == 13:\n",
    "        return 10000\n",
    "    elif label == 14:\n",
    "        return 100000000"
   ]
  },
  {
   "cell_type": "markdown",
   "metadata": {},
   "source": [
    "## Split data by character \n",
    "\n",
    "Our dataset is composed of 15 character: 1,2,3,4,5,6,7,8,9,10, bai, qian, wan, yi.  \n",
    "We split this dataset into several subset: each subset only contains one character "
   ]
  },
  {
   "cell_type": "code",
   "execution_count": 8,
   "metadata": {},
   "outputs": [],
   "source": [
    "def splitByChar(Data, Label):\n",
    "    charMap = {}\n",
    "    \n",
    "    for i in range(15):\n",
    "        label = labelData[i*1000]\n",
    "        pixels = pixelData.iloc[i*1000:(i+1)*1000, :]\n",
    "        \n",
    "        if(label < 11):\n",
    "            charMap[label] = pixels\n",
    "        elif(label == 100): # bai\n",
    "            charMap[11] = pixels\n",
    "        elif(label == 1000): # qian\n",
    "            charMap[12] = pixels\n",
    "        elif(label == 10000): # wan\n",
    "            charMap[13] = pixels\n",
    "        elif(label == 100000000): # yi\n",
    "            charMap[14] = pixels\n",
    "    \n",
    "    # return charMap as result \n",
    "    return charMap"
   ]
  },
  {
   "cell_type": "code",
   "execution_count": 9,
   "metadata": {},
   "outputs": [],
   "source": [
    "charMap = splitByChar(pixelData,labelData)"
   ]
  },
  {
   "cell_type": "code",
   "execution_count": 10,
   "metadata": {},
   "outputs": [
    {
     "data": {
      "image/png": "[encoded data removed]",
      "text/plain": [
       "<Figure size 432x288 with 1 Axes>"
      ]
     },
     "metadata": {
      "needs_background": "light"
     },
     "output_type": "display_data"
    }
   ],
   "source": [
    "# test charmap split data correctly \n",
    "eightImages = charMap[8]\n",
    "viewdfrow(eightImages.iloc[4])"
   ]
  },
  {
   "cell_type": "markdown",
   "metadata": {},
   "source": [
    "## Split data into training and testing set "
   ]
  },
  {
   "cell_type": "code",
   "execution_count": 11,
   "metadata": {},
   "outputs": [],
   "source": [
    "testCharMap = {}\n",
    "trainCharMap = {}\n",
    "\n",
    "for i in range(15):\n",
    "    train, test = train_test_split(charMap[i], test_size=0.25) \n",
    "    testCharMap[i] = test\n",
    "    trainCharMap[i] = train"
   ]
  },
  {
   "cell_type": "markdown",
   "metadata": {},
   "source": [
    "## Scaled the data "
   ]
  },
  {
   "cell_type": "code",
   "execution_count": 12,
   "metadata": {},
   "outputs": [],
   "source": [
    "scaledTestCharMap = {}\n",
    "scaledTrainCharMap = {}\n",
    "\n",
    "\n",
    "for label, image in testCharMap.items():\n",
    "    scaledTestCharMap[label] = preprocessing.scale(image)\n",
    "\n",
    "for label, image in trainCharMap.items():\n",
    "    scaledTrainCharMap[label] = preprocessing.scale(image)"
   ]
  },
  {
   "cell_type": "markdown",
   "metadata": {},
   "source": [
    "## Train 15 models for each character"
   ]
  },
  {
   "cell_type": "code",
   "execution_count": 13,
   "metadata": {},
   "outputs": [],
   "source": [
    "tstart = time.time()"
   ]
  },
  {
   "cell_type": "code",
   "execution_count": 14,
   "metadata": {},
   "outputs": [],
   "source": [
    "def PCATraining(scaledimageSet):\n",
    "    pca = PCA(n_components=0.95)\n",
    "    pca.fit(scaledimageSet)\n",
    "    return pca"
   ]
  },
  {
   "cell_type": "code",
   "execution_count": 15,
   "metadata": {},
   "outputs": [],
   "source": [
    "pcaModelList = {}\n",
    "for label, image in scaledTrainCharMap.items():\n",
    "    pcaModelList[label] = PCATraining(image)"
   ]
  },
  {
   "cell_type": "markdown",
   "metadata": {},
   "source": [
    "## Testing function "
   ]
  },
  {
   "cell_type": "code",
   "execution_count": 16,
   "metadata": {},
   "outputs": [],
   "source": [
    "# Method description: reconstruct the testing image using 15 models \n",
    "# Input:\n",
    "# - testingImage: the image that we used to reconstruct \n",
    "# \n",
    "# Output:\n",
    "# - reconstruectedImage: 15 images that's being reconstructed based on 15 PCA models (in order)\n",
    "\n",
    "def reconstructImage(scaledTestingImage):\n",
    "    reconstruectedImage = {}\n",
    "\n",
    "    for label, model in pcaModelList.items():\n",
    "        lower_image = model.transform([scaledTestingImage])\n",
    "        new_image = model.inverse_transform(lower_image) # can be used to view \n",
    "        reconstruectedImage[label] = new_image\n",
    "    \n",
    "    return reconstruectedImage"
   ]
  },
  {
   "cell_type": "code",
   "execution_count": 17,
   "metadata": {},
   "outputs": [],
   "source": [
    "# Method description: plot the 15 reconstructed image \n",
    "# Input: \n",
    "# - reconstruectedImage: the result obtained from reconstructImage(), which is the \n",
    "#                        15 images that's being reconstructed based on 15 PCA models\n",
    "# - sampleLabel: what number we are working on, integer, in range [0,10] OR [bai,qian,wan,yi]\n",
    "# \n",
    "# Output: A Plot \n",
    "# \n",
    "def plotReconstructedImage(reconstruectedImage,sampleLabel,origionalImage):\n",
    "    fig=plt.figure()\n",
    "    axes=[]\n",
    "\n",
    "    rows = 4\n",
    "    cols = 4\n",
    "\n",
    "    for i in range(rows*cols):\n",
    "        if i == 0:\n",
    "            currImage = origionalImage.to_numpy().reshape([64, 64])\n",
    "            subplot_title=('Origional Image')\n",
    "\n",
    "        else:\n",
    "            currImage = reconstruectedImage[i-1].reshape([64, 64])\n",
    "            subplot_title=(\"Model \"+str(i))\n",
    "\n",
    "        axes.append( fig.add_subplot(rows, cols, i+1) )\n",
    "        axes[-1].set_title(subplot_title,fontsize=25)  \n",
    "        plt.imshow(currImage)\n",
    "\n",
    "    fig.tight_layout()   \n",
    "    fig.suptitle(\"Construct \" + str(sampleLabel) +\" using 15 models\",fontsize=35,y=1.02)\n",
    "    fig.set_figheight(25)\n",
    "    fig.set_figwidth(25)\n",
    "    fig.tight_layout(pad=3.0)\n",
    "    plt.show()"
   ]
  },
  {
   "cell_type": "code",
   "execution_count": 18,
   "metadata": {},
   "outputs": [],
   "source": [
    "# helper function \n",
    "def compare(image1, image2):\n",
    "    return np.linalg.norm(image1-image2)\n",
    "\n",
    "# Method description: compute the similarity between the 15 reconstructed image and the origional image\n",
    "# Input: \n",
    "# - reconstruectedImage: the result obtained from reconstructImage(), which is the \n",
    "#                        15 images that's being reconstructed based on 15 PCA models\n",
    "# - scaledTestingImage: scaled origional image \n",
    "# \n",
    "# \n",
    "def computeSimilarity(reconstruectedImage, scaledTestingImage):\n",
    "    similarityTable = {}\n",
    "\n",
    "    for label, new_image in reconstruectedImage.items():\n",
    "        score = compare(new_image,scaledTestingImage)\n",
    "        similarityTable[label] = score\n",
    "    \n",
    "    return similarityTable\n",
    "\n"
   ]
  },
  {
   "cell_type": "code",
   "execution_count": 19,
   "metadata": {},
   "outputs": [],
   "source": [
    "# show in bar plot\n",
    "def plotSimilarityTable(similarityTable):\n",
    "    fig = plt.figure()\n",
    "    plt.title(\"similarity table bar plot\")\n",
    "    ax = fig.add_axes([0,0,1,1])\n",
    "    models = similarityTable.keys()\n",
    "    score = similarityTable.values()\n",
    "    ax.bar(models,score)\n",
    "    plt.show()"
   ]
  },
  {
   "cell_type": "code",
   "execution_count": 20,
   "metadata": {},
   "outputs": [],
   "source": [
    "# show as a sorted list \n",
    "def printSimilarityTable(similarityTable):\n",
    "    sortedSimilarityTable = {k: v for k, v in sorted(similarityTable.items(), key=lambda item: item[1])}\n",
    "    for model, score in sortedSimilarityTable.items():\n",
    "        print('score of model ' + str(model) + ': ' + str(score))\n"
   ]
  },
  {
   "cell_type": "code",
   "execution_count": 21,
   "metadata": {},
   "outputs": [],
   "source": [
    "# get the final result for this estimation \n",
    "def gainResult(similarityTable):\n",
    "    return min(similarityTable, key=similarityTable.get)"
   ]
  },
  {
   "cell_type": "code",
   "execution_count": 22,
   "metadata": {},
   "outputs": [],
   "source": [
    "# randomly pick one image from any testing set \n",
    "# eg. the fifth image from testCharMap[3] - which should be an \"san\"\n",
    "\n",
    "# input: sampleLabel in range [0,14] - choose a number to test \n",
    "# input: index in range [0,249] - choose a image to test \n",
    "def testingModel(sampleLabel, index):\n",
    "    formalLabel = labelToNum(sampleLabel) \n",
    "    testingImage = testCharMap[sampleLabel].iloc[index] # used for view the image \n",
    "    scaledTestingImage = scaledTestCharMap[sampleLabel][index] # used for data testing \n",
    "\n",
    "    # reconstruct \n",
    "    reconstruectedImage = reconstructImage(scaledTestingImage)\n",
    "\n",
    "    # plot the reconstructed images \n",
    "#    plotReconstructedImage(reconstruectedImage,sampleLabel,testingImage)\n",
    "\n",
    "    # calculate the similarity between each reconstructed images and the origional image \n",
    "    similarityTable = computeSimilarity(reconstruectedImage, scaledTestingImage)\n",
    "\n",
    "    # plot and list similarityTable \n",
    "#    plotSimilarityTable(similarityTable)\n",
    "#    printSimilarityTable(similarityTable)\n",
    "    \n",
    "    # estimate the final result \n",
    "    result = gainResult(similarityTable)\n",
    "    \n",
    "    return result"
   ]
  },
  {
   "cell_type": "markdown",
   "metadata": {},
   "source": [
    "## Testing Step - random test on one case"
   ]
  },
  {
   "cell_type": "code",
   "execution_count": 23,
   "metadata": {},
   "outputs": [],
   "source": [
    "result = testingModel(9, 5)"
   ]
  },
  {
   "cell_type": "code",
   "execution_count": 24,
   "metadata": {},
   "outputs": [
    {
     "data": {
      "text/plain": [
       "7"
      ]
     },
     "execution_count": 24,
     "metadata": {},
     "output_type": "execute_result"
    }
   ],
   "source": [
    "result"
   ]
  },
  {
   "cell_type": "markdown",
   "metadata": {},
   "source": [
    "## Test case 2 - test on all testing set"
   ]
  },
  {
   "cell_type": "code",
   "execution_count": 25,
   "metadata": {},
   "outputs": [],
   "source": [
    "count = 0\n",
    "for num in range(15):\n",
    "    for i in range(250):\n",
    "        if testingModel(num, i) == num:\n",
    "            count = count + 1 "
   ]
  },
  {
   "cell_type": "code",
   "execution_count": 26,
   "metadata": {},
   "outputs": [
    {
     "data": {
      "text/plain": [
       "0.7346666666666667"
      ]
     },
     "execution_count": 26,
     "metadata": {},
     "output_type": "execute_result"
    }
   ],
   "source": [
    "accurace = count / (15*250) \n",
    "accurace"
   ]
  },
  {
   "cell_type": "code",
   "execution_count": 27,
   "metadata": {},
   "outputs": [
    {
     "data": {
      "text/plain": [
       "637.8956456184387"
      ]
     },
     "execution_count": 27,
     "metadata": {},
     "output_type": "execute_result"
    }
   ],
   "source": [
    "tstop = time.time()\n",
    "timeconsumed = tstop - tstart\n",
    "timeconsumed"
   ]
  },
  {
   "cell_type": "code",
   "execution_count": null,
   "metadata": {},
   "outputs": [],
   "source": []
  }
 ],
 "metadata": {
  "kernelspec": {
   "display_name": "Python 3",
   "language": "python",
   "name": "python3"
  },
  "language_info": {
   "codemirror_mode": {
    "name": "ipython",
    "version": 3
   },
   "file_extension": ".py",
   "mimetype": "text/x-python",
   "name": "python",
   "nbconvert_exporter": "python",
   "pygments_lexer": "ipython3",
   "version": "3.8.8"
  }
 },
 "nbformat": 4,
 "nbformat_minor": 4
}
