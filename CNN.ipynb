{
 "cells": [
  {
   "cell_type": "code",
   "execution_count": 1,
   "id": "9fbf0c14",
   "metadata": {},
   "outputs": [],
   "source": [
    "import numpy as np \n",
    "import pandas as pd \n",
    "import matplotlib.pyplot as plt\n",
    "import gc\n",
    "\n",
    "#train data \n",
    "from sklearn.model_selection import train_test_split\n",
    "\n",
    "from tensorflow import keras\n",
    "from keras import models\n",
    "from keras import layers\n",
    "\n",
    "from tensorflow.keras.utils import to_categorical\n",
    "\n",
    "from tensorflow import keras\n",
    "from tensorflow.keras import layers, Sequential\n",
    "from tensorflow.keras.callbacks import EarlyStopping\n",
    "from sklearn.metrics import confusion_matrix\n",
    "import seaborn as sns\n"
   ]
  },
  {
   "cell_type": "code",
   "execution_count": 2,
   "id": "8ee9ba96",
   "metadata": {},
   "outputs": [],
   "source": [
    "data = pd.read_csv(\"./chineseMNIST.csv\")"
   ]
  },
  {
   "cell_type": "code",
   "execution_count": 3,
   "id": "98dc9f0d",
   "metadata": {},
   "outputs": [
    {
     "data": {
      "text/plain": [
       "array([        9,        10,       100,      1000,     10000, 100000000,\n",
       "               0,         1,         2,         3,         4,         5,\n",
       "               6,         7,         8])"
      ]
     },
     "execution_count": 3,
     "metadata": {},
     "output_type": "execute_result"
    }
   ],
   "source": [
    "#data exploration \n",
    "data['label'].unique()"
   ]
  },
  {
   "cell_type": "code",
   "execution_count": 4,
   "id": "5e496948",
   "metadata": {},
   "outputs": [
    {
     "data": {
      "text/plain": [
       "(15000, 4098)"
      ]
     },
     "execution_count": 4,
     "metadata": {},
     "output_type": "execute_result"
    }
   ],
   "source": [
    "data.to_numpy().shape"
   ]
  },
  {
   "cell_type": "code",
   "execution_count": 5,
   "id": "501409b7",
   "metadata": {},
   "outputs": [],
   "source": [
    "#As seen from the label unique function above, there are 15 classes.\n",
    "data['label'].replace(100,11,inplace=True)\n",
    "data['label'].replace(1000,12,inplace=True)\n",
    "data['label'].replace(10000,13,inplace=True)\n",
    "data['label'].replace(100000000,14,inplace=True)"
   ]
  },
  {
   "cell_type": "code",
   "execution_count": 16,
   "id": "f5c784b7",
   "metadata": {},
   "outputs": [
    {
     "data": {
      "text/plain": [
       "((15000, 4096), (15000,), (15000,))"
      ]
     },
     "execution_count": 16,
     "metadata": {},
     "output_type": "execute_result"
    }
   ],
   "source": [
    "images = data.drop(\"label\", axis=1).drop(\"character\", axis=1).values\n",
    "labels = data[\"label\"].values\n",
    "characters = data[\"character\"].values\n",
    "\n",
    "images.shape, labels.shape, characters.shape"
   ]
  },
  {
   "cell_type": "code",
   "execution_count": 18,
   "id": "e6761ccd",
   "metadata": {},
   "outputs": [],
   "source": [
    "# reshape each image in the dataset\n",
    "def getimage(x):\n",
    "    pics = [] \n",
    "    \n",
    "    for i in x:\n",
    "        a = i.reshape(64,64,1)# reshape the flatten data\n",
    "        pics.append(a)\n",
    "   \n",
    "    return np.array(pics).astype('float32')/255 #to the good size"
   ]
  },
  {
   "cell_type": "code",
   "execution_count": 41,
   "id": "2f85bd3e",
   "metadata": {},
   "outputs": [],
   "source": [
    "# count dict number\n",
    "def count(arr):\n",
    "    dic = {}\n",
    "    for val in arr:\n",
    "        if val not in dic.keys():\n",
    "            dic[val] = 1\n",
    "        else:\n",
    "            dic[val] += 1\n",
    "    return dic \n",
    "\n",
    "# target and set labels\n",
    "def target(chars, num_classes):\n",
    "    target = [] \n",
    "    other = {} # other result\n",
    "    c = count(chars) # count the characters\n",
    "   \n",
    "    for key, i in zip(c.keys(), range(num_classes)):# add labels to the dict\n",
    "        other[key] = i\n",
    "        \n",
    "    labs = other.keys()# create the labels data, the numbers\n",
    "    for char in chars:\n",
    "        pos = other[char] # 1\n",
    "        row = []\n",
    "        for i in range(num_classes):# [0,1...]-target\n",
    "            if pos != i:\n",
    "                row.append(0)\n",
    "            else:\n",
    "                row.append(1)\n",
    "        target.append(row)\n",
    "    return np.array(target).astype('float32'), other"
   ]
  },
  {
   "cell_type": "code",
   "execution_count": null,
   "id": "708d5a30",
   "metadata": {},
   "outputs": [],
   "source": []
  },
  {
   "cell_type": "code",
   "execution_count": 11,
   "id": "f10e37f1",
   "metadata": {},
   "outputs": [
    {
     "data": {
      "image/png": "[encoded data removed]",
      "text/plain": [
       "<Figure size 432x288 with 1 Axes>"
      ]
     },
     "metadata": {
      "needs_background": "light"
     },
     "output_type": "display_data"
    }
   ],
   "source": [
    "#Test one image\n",
    "X_labels = data[\"label\"]\n",
    "X_images = data.drop(labels = [\"label\", \"character\"],axis = 1) \n",
    "\n",
    "X_images = X_images.values.reshape(-1,64,64,1)\n",
    "\n",
    "pic = X_images[12] # parameter change : different images of the same character\n",
    "plt.imshow(pic, cmap=plt.cm.binary)\n",
    "plt.show()"
   ]
  },
  {
   "cell_type": "code",
   "execution_count": null,
   "id": "6e43786f",
   "metadata": {},
   "outputs": [],
   "source": []
  },
  {
   "cell_type": "code",
   "execution_count": 42,
   "id": "591b058e",
   "metadata": {},
   "outputs": [
    {
     "data": {
      "text/plain": [
       "((15000, 64, 64, 1), dtype('float32'), (15000, 15), dtype('float32'))"
      ]
     },
     "execution_count": 42,
     "metadata": {},
     "output_type": "execute_result"
    }
   ],
   "source": [
    "X = getimage(images)#images as arrays\n",
    "\n",
    "# get target \n",
    "X_lab, other = target(characters, num_classes=15)\n",
    "\n",
    "X.shape, X.dtype, X_lab.shape, X_lab.dtype"
   ]
  },
  {
   "cell_type": "code",
   "execution_count": 43,
   "id": "cb8c0d2a",
   "metadata": {},
   "outputs": [
    {
     "data": {
      "text/plain": [
       "((12000, 64, 64, 1), (3000, 64, 64, 1))"
      ]
     },
     "execution_count": 43,
     "metadata": {},
     "output_type": "execute_result"
    }
   ],
   "source": [
    "#train data\n",
    "x_train, x_test, xl_train, xl_test = train_test_split(X, X_lab, test_size=.2, random_state=0)\n",
    "x_train.shape, x_test.shape"
   ]
  },
  {
   "cell_type": "code",
   "execution_count": 66,
   "id": "e2e17f26",
   "metadata": {},
   "outputs": [],
   "source": [
    "#Kersa model \n",
    "\n",
    "input_shape = (64,64,1) # the dimension of the data\n",
    "num_classes = 15 # the number of classes\n",
    "\n",
    "model = Sequential([\n",
    "    # define the input shape\n",
    "    layers.InputLayer(input_shape=input_shape),\n",
    "\n",
    "    # convolutional part with relu and later pooling\n",
    "    layers.Conv2D(filters=32, kernel_size=5, activation='relu'),\n",
    "    layers.MaxPooling2D(pool_size=2),\n",
    "\n",
    "    layers.Flatten(),\n",
    "    \n",
    "    # dense part\n",
    "    layers.Dense(256, activation='relu'),\n",
    "    layers.Dropout(rate=.2), # turn off random neurons at .2\n",
    "    layers.Dense(256, activation='relu'),\n",
    "    layers.Dropout(rate=.2), \n",
    "    layers.Dense(num_classes, activation='softmax')\n",
    "])\n",
    "\n"
   ]
  },
  {
   "cell_type": "code",
   "execution_count": 67,
   "id": "c9251305",
   "metadata": {},
   "outputs": [],
   "source": [
    "#Compilation\n",
    "model.compile(\n",
    "    optimizer='adam',#tried \"rmsprop\", the accuarcy reached 0.99, may have overfitting issue, thus changed \n",
    "    loss='categorical_crossentropy',\n",
    "    metrics = ['accuracy'],\n",
    ")\n",
    "\n"
   ]
  },
  {
   "cell_type": "code",
   "execution_count": 68,
   "id": "8e64e8ac",
   "metadata": {},
   "outputs": [
    {
     "name": "stdout",
     "output_type": "stream",
     "text": [
      "Model: \"sequential_1\"\n",
      "_________________________________________________________________\n",
      "Layer (type)                 Output Shape              Param #   \n",
      "=================================================================\n",
      "conv2d_1 (Conv2D)            (None, 60, 60, 32)        832       \n",
      "_________________________________________________________________\n",
      "max_pooling2d_1 (MaxPooling2 (None, 30, 30, 32)        0         \n",
      "_________________________________________________________________\n",
      "flatten_1 (Flatten)          (None, 28800)             0         \n",
      "_________________________________________________________________\n",
      "dense_3 (Dense)              (None, 256)               7373056   \n",
      "_________________________________________________________________\n",
      "dropout_2 (Dropout)          (None, 256)               0         \n",
      "_________________________________________________________________\n",
      "dense_4 (Dense)              (None, 256)               65792     \n",
      "_________________________________________________________________\n",
      "dropout_3 (Dropout)          (None, 256)               0         \n",
      "_________________________________________________________________\n",
      "dense_5 (Dense)              (None, 15)                3855      \n",
      "=================================================================\n",
      "Total params: 7,443,535\n",
      "Trainable params: 7,443,535\n",
      "Non-trainable params: 0\n",
      "_________________________________________________________________\n"
     ]
    }
   ],
   "source": [
    "model.summary()"
   ]
  },
  {
   "cell_type": "code",
   "execution_count": 73,
   "id": "22cd851f",
   "metadata": {},
   "outputs": [
    {
     "name": "stdout",
     "output_type": "stream",
     "text": [
      "Epoch 1/25\n",
      "169/169 [==============================] - 1s 6ms/step - loss: 0.0252 - accuracy: 0.9923 - val_loss: 0.2469 - val_accuracy: 0.9400\n",
      "Epoch 2/25\n",
      "169/169 [==============================] - 1s 6ms/step - loss: 0.0163 - accuracy: 0.9951 - val_loss: 0.1952 - val_accuracy: 0.9592\n",
      "Epoch 3/25\n",
      "169/169 [==============================] - 1s 7ms/step - loss: 0.0199 - accuracy: 0.9934 - val_loss: 0.2199 - val_accuracy: 0.9550\n",
      "Epoch 4/25\n",
      "169/169 [==============================] - 1s 6ms/step - loss: 0.0124 - accuracy: 0.9965 - val_loss: 0.2123 - val_accuracy: 0.9517\n",
      "Epoch 5/25\n",
      "169/169 [==============================] - 1s 7ms/step - loss: 0.0175 - accuracy: 0.9948 - val_loss: 0.2316 - val_accuracy: 0.9533\n",
      "Epoch 6/25\n",
      "169/169 [==============================] - 1s 7ms/step - loss: 0.0131 - accuracy: 0.9961 - val_loss: 0.2329 - val_accuracy: 0.9617\n",
      "Epoch 7/25\n",
      "169/169 [==============================] - 1s 7ms/step - loss: 0.0180 - accuracy: 0.9946 - val_loss: 0.2495 - val_accuracy: 0.9583\n",
      "Epoch 8/25\n",
      "169/169 [==============================] - 1s 7ms/step - loss: 0.0156 - accuracy: 0.9944 - val_loss: 0.2419 - val_accuracy: 0.9592\n",
      "Epoch 9/25\n",
      "169/169 [==============================] - 1s 7ms/step - loss: 0.0159 - accuracy: 0.9946 - val_loss: 0.2945 - val_accuracy: 0.9542\n",
      "Epoch 10/25\n",
      "169/169 [==============================] - 1s 6ms/step - loss: 0.0243 - accuracy: 0.9932 - val_loss: 0.2641 - val_accuracy: 0.9475\n",
      "Epoch 11/25\n",
      "169/169 [==============================] - 1s 6ms/step - loss: 0.0150 - accuracy: 0.9950 - val_loss: 0.2950 - val_accuracy: 0.9500\n",
      "Epoch 12/25\n",
      "169/169 [==============================] - 1s 7ms/step - loss: 0.0106 - accuracy: 0.9964 - val_loss: 0.2952 - val_accuracy: 0.9508\n",
      "Epoch 13/25\n",
      "169/169 [==============================] - 1s 6ms/step - loss: 0.0117 - accuracy: 0.9960 - val_loss: 0.2839 - val_accuracy: 0.9508\n",
      "Epoch 14/25\n",
      "169/169 [==============================] - 1s 6ms/step - loss: 0.0197 - accuracy: 0.9934 - val_loss: 0.3336 - val_accuracy: 0.9450\n",
      "Epoch 15/25\n",
      "169/169 [==============================] - 1s 7ms/step - loss: 0.0193 - accuracy: 0.9930 - val_loss: 0.3465 - val_accuracy: 0.9442\n",
      "Epoch 16/25\n",
      "169/169 [==============================] - 1s 6ms/step - loss: 0.0144 - accuracy: 0.9956 - val_loss: 0.2788 - val_accuracy: 0.9533\n",
      "Epoch 17/25\n",
      "169/169 [==============================] - 1s 6ms/step - loss: 0.0109 - accuracy: 0.9968 - val_loss: 0.2689 - val_accuracy: 0.9525\n",
      "Epoch 18/25\n",
      "169/169 [==============================] - 1s 7ms/step - loss: 0.0138 - accuracy: 0.9952 - val_loss: 0.3244 - val_accuracy: 0.9508\n",
      "Epoch 19/25\n",
      "169/169 [==============================] - 1s 6ms/step - loss: 0.0098 - accuracy: 0.9967 - val_loss: 0.2927 - val_accuracy: 0.9492\n",
      "Epoch 20/25\n",
      "169/169 [==============================] - 1s 6ms/step - loss: 0.0159 - accuracy: 0.9958 - val_loss: 0.2786 - val_accuracy: 0.9550\n",
      "Epoch 21/25\n",
      "169/169 [==============================] - 1s 7ms/step - loss: 0.0122 - accuracy: 0.9965 - val_loss: 0.3211 - val_accuracy: 0.9467\n",
      "Epoch 22/25\n",
      "169/169 [==============================] - 1s 7ms/step - loss: 0.0106 - accuracy: 0.9962 - val_loss: 0.2974 - val_accuracy: 0.9558\n",
      "Epoch 23/25\n",
      "169/169 [==============================] - 1s 6ms/step - loss: 0.0085 - accuracy: 0.9969 - val_loss: 0.2931 - val_accuracy: 0.9583\n",
      "Epoch 24/25\n",
      "169/169 [==============================] - 1s 7ms/step - loss: 0.0109 - accuracy: 0.9969 - val_loss: 0.2947 - val_accuracy: 0.9550\n",
      "Epoch 25/25\n",
      "169/169 [==============================] - 1s 7ms/step - loss: 0.0206 - accuracy: 0.9945 - val_loss: 0.2559 - val_accuracy: 0.9492\n"
     ]
    }
   ],
   "source": [
    "# fit model \n",
    "hist = model.fit(x_train,xl_train,batch_size=64,epochs=25,validation_split=.1,)"
   ]
  },
  {
   "cell_type": "code",
   "execution_count": 74,
   "id": "a8908340",
   "metadata": {},
   "outputs": [
    {
     "name": "stdout",
     "output_type": "stream",
     "text": [
      "47/47 [==============================] - 0s 4ms/step - loss: 0.2463 - accuracy: 0.9557\n",
      "[test loss, test acc]: [0.2462683916091919, 0.9556666612625122]\n"
     ]
    }
   ],
   "source": [
    "# Model Evaluation\n",
    "results = model.evaluate(x_test, xl_test, batch_size=64)\n",
    "print(\"[test loss, test acc]:\", results)"
   ]
  },
  {
   "cell_type": "code",
   "execution_count": 75,
   "id": "a929735b",
   "metadata": {},
   "outputs": [
    {
     "data": {
      "image/png": "[encoded data removed]",
      "text/plain": [
       "<Figure size 1440x720 with 2 Axes>"
      ]
     },
     "metadata": {
      "needs_background": "light"
     },
     "output_type": "display_data"
    }
   ],
   "source": [
    "plt.figure(figsize=(20, 10))\n",
    "\n",
    "# plot the loss function\n",
    "plt.subplot(1,2,1)\n",
    "plt.plot(hist.history['loss'], label='train')\n",
    "plt.plot(hist.history['val_loss'], label='validation')\n",
    "plt.title('Loss Function')\n",
    "plt.grid(True)\n",
    "plt.legend()\n",
    "\n",
    "# plot the accuracy\n",
    "plt.subplot(1,2,2)\n",
    "plt.plot(hist.history['accuracy'], label='train')\n",
    "plt.plot(hist.history['val_accuracy'], label='validation')\n",
    "plt.grid(True)\n",
    "plt.title('Accuracy')\n",
    "plt.legend()\n",
    "\n",
    "plt.show()"
   ]
  },
  {
   "cell_type": "markdown",
   "id": "fe8492a7",
   "metadata": {},
   "source": [
    "The model reaches a performance of almost 0.95 in validation and testing and .99 in training."
   ]
  },
  {
   "cell_type": "code",
   "execution_count": null,
   "id": "a75d8ef3",
   "metadata": {},
   "outputs": [],
   "source": []
  }
 ],
 "metadata": {
  "kernelspec": {
   "display_name": "Python 3 (clean)",
   "language": "python",
   "name": "python3_clean"
  },
  "language_info": {
   "codemirror_mode": {
    "name": "ipython",
    "version": 3
   },
   "file_extension": ".py",
   "mimetype": "text/x-python",
   "name": "python",
   "nbconvert_exporter": "python",
   "pygments_lexer": "ipython3",
   "version": "3.9.5"
  }
 },
 "nbformat": 4,
 "nbformat_minor": 5
}
